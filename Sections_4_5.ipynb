{
  "nbformat": 4,
  "nbformat_minor": 0,
  "metadata": {
    "colab": {
      "name": "Sections 4.5.ipynb",
      "provenance": [],
      "collapsed_sections": [],
      "authorship_tag": "ABX9TyPAkJHwSUKcJSlTeQntfQg8",
      "include_colab_link": true
    },
    "kernelspec": {
      "name": "python3",
      "display_name": "Python 3"
    },
    "language_info": {
      "name": "python"
    }
  },
  "cells": [
    {
      "cell_type": "markdown",
      "metadata": {
        "id": "view-in-github",
        "colab_type": "text"
      },
      "source": [
        "<a href=\"https://colab.research.google.com/github/ops41/math/blob/main/Sections_4_5.ipynb\" target=\"_parent\"><img src=\"https://colab.research.google.com/assets/colab-badge.svg\" alt=\"Open In Colab\"/></a>"
      ]
    },
    {
      "cell_type": "markdown",
      "metadata": {
        "id": "YKa1eEqnOvjh"
      },
      "source": [
        "# maths - \n",
        "*math notes for differential: solve with undermined coefficients.*\n",
        "#\n",
        "### question 9, 4.5.21\n",
        "\n",
        "```\n",
        "solve y''(θ)+12y'(θ)+37y(θ)=Power[e,-6θ]cosθ for θ  \n",
        "```\n",
        " https://www.wolframalpha.com/input/?i2d=true&i=solve+y%27%27%5C%2840%29%CE%B8%5C%2841%29%2B12y%27%5C%2840%29%CE%B8%5C%2841%29%2B37y%5C%2840%29%CE%B8%5C%2841%29%3DPower%5Be%2C-6%CE%B8%5Dcos%CE%B8+for+%CE%B8++\n",
        " #\n",
        "### question 10, 4.5.25\n",
        "\n",
        "```solve\n",
        "{z''(x) + z(x) = 9 e^(-6 x), z(0) = 0, z'(0) = 0}\n",
        "```\n",
        "\n",
        "https://www.wolframalpha.com/input/?i2d=true&i=z%27%27%5C%2840%29x%5C%2841%29+%2B+z%5C%2840%29x%5C%2841%29+%3D+9Power%5Be%2C%5C%2840%29-6x%5C%2841%29%5D%5C%2844%29+z%5C%2840%290%5C%2841%29%3D0%5C%2844%29+z%27%5C%2840%290%5C%2841%29%3D0\n",
        "\n",
        "### **question 15, 4.5.43**\n",
        "\n",
        "Given the general form for the differenrial equation for the spring-mass system:\n",
        "$$\n",
        "my''+by'+ky = g(t)\n",
        "$$\n",
        "and\n",
        "$$\n",
        "mass: m = 1,\n",
        "spring-constant: k = 6,damping-coefficient: b=5, start: y(0) = \\frac{1}{2}, rest: y'(0) = 0.\n",
        "$$\n",
        "\n",
        "$$\n",
        "\\implies y''+5y'+6y=6sin(2t)\n",
        "$$\n",
        "\n",
        "Then solve above for $t$:\n",
        "```\n",
        "solve y''(t)+5y'(t)+6y(t)=6*sin(2t) for t\n",
        "```\n",
        "https://www.wolframalpha.com/input/?i2d=true&i=solve+y%27%27%5C%2840%29t%5C%2841%29%2B5y%27%5C%2840%29t%5C%2841%29%2B6y%5C%2840%29t%5C%2841%29%3D6*sin%5C%2840%292t%5C%2841%29+for+t\n",
        "\n",
        "The above gives:\n",
        "```\n",
        "y(t) = c_1 e^(-3 t) + c_2 e^(-2 t) + 3/26 sin(2 t) - 15/26 cos(2 t)\n",
        "```\n",
        "e.i.\n",
        "$$\n",
        "y(t) = c_1 e^{-3t} + c_2 e^{-2 t} + \\frac{3}{26}sin(2t) - \\frac{15}{26} cos(2t)\n",
        "$$\n",
        "Evaluate \n",
        "$y(t)$  for $t=0$\n",
        "\n",
        "$$\n",
        "\\implies y(0) = c_1 + c_2 - \\frac{15}{26}\n",
        "$$\n",
        "and \n",
        "$$\n",
        "y(0)=\\frac{1}{2}\n",
        "$$\n",
        "$$\n",
        "\\implies\n",
        "c_1 + c_2 - \\frac{15}{26} = \\frac{1}{2}.\n",
        "$$\n",
        "Differiate $y(t)$ and evaluate $y'(t)$ for $t=0$\n",
        "```\n",
        "derevative y(t) = c_1 Power[e,\\(40)-3 t\\(41)] + c_2 Power[e,\\(40)-2 t\\(41)] + Divide[3,26] sin(2 t) - Divide[15,26] cos(2 t) where t=0\n",
        "```\n",
        "https://www.wolframalpha.com/input/?i2d=true&i=derevative+y%5C%2840%29t%5C%2841%29+%3D+c_1+Power%5Be%2C%5C%2840%29-3+t%5C%2841%29%5D+%2B+c_2+Power%5Be%2C%5C%2840%29-2+t%5C%2841%29%5D+%2B+Divide%5B3%2C26%5D+sin%5C%2840%292+t%5C%2841%29+-+Divide%5B15%2C26%5D+cos%5C%2840%292+t%5C%2841%29+where+t%3D0\n",
        "\n",
        "$$\n",
        "   y'(0)=  -3 c_1 - 2 c_2 + \\frac{3}{13}\n",
        "$$\n",
        "and\n",
        "$$\n",
        "y'(0) = 0\n",
        "$$\n",
        "$$\n",
        "\\implies\n",
        "-3 c_1 - 2 c_2 + \\frac{3}{13} = 0.\n",
        "$$\n",
        "Solve system of equations to find $c_1$ and $c_2$:\n",
        "https://www.wolframalpha.com/input/?i=solve+system+of+equations&assumption=%7B%22F%22%2C+%22SolveSystemOf2EquationsCalculator%22%2C+%22equation1%22%7D+-%3E%22c_1+%2Bc_2-15%2F26+%3D+1%2F2%22&assumption=%22FSelect%22+-%3E+%7B%7B%22SolveSystemOf2EquationsCalculator%22%7D%7D&assumption=%7B%22C%22%2C+%22solve+system+of+equations%22%7D+-%3E+%7B%22Calculator%22%7D&assumption=%7B%22F%22%2C+%22SolveSystemOf2EquationsCalculator%22%2C+%22equation2%22%7D+-%3E%22-3c_1+-+2c_2+%2B+3%2F13+%3D+0%22\n",
        "$$\n",
        "c_1 = -\\frac{25}{13}\n",
        "$$\n",
        " and \n",
        " $$c_2 = 3.\n",
        " $$\n",
        "\n",
        " Lastly, given the above $y(t)$, $c_1$ and $c_2$:\n",
        " \n",
        " \n",
        " $$\n",
        "y(t) = -\\frac{25}{13}+ 3e^{-2 t} + \\frac{3}{26}sin(2t) - \\frac{15}{26} cos(2t)\n",
        "$$\n"
      ]
    },
    {
      "cell_type": "code",
      "metadata": {
        "id": "-EbOlxmROCX_"
      },
      "source": [
        ""
      ],
      "execution_count": null,
      "outputs": []
    }
  ]
}